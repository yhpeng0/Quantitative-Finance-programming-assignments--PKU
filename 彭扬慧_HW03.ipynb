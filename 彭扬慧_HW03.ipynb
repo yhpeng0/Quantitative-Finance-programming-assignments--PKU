{
 "cells": [
  {
   "cell_type": "markdown",
   "metadata": {},
   "source": [
    "# Topics in Quantitative Finance - Homework 3\n",
    "\n",
    "Assigned: Friday, July 28, 2023.\n",
    "Due: **Monday, July 31, 2023** by 1PM. \n",
    "\n",
    "Late homework **will not be accepted**.\n",
    "\n",
    "$$\n",
    "\\newcommand{\\supp}{\\mathrm{supp}}\n",
    "\\newcommand{\\E}{\\mathbb{E} }\n",
    "\\newcommand{\\Eof}[1]{\\mathbb{E}\\left[ #1 \\right]}\n",
    "\\def\\Cov{{ \\mbox{Cov} }}\n",
    "\\def\\Var{{ \\mbox{Var} }}\n",
    "\\newcommand{\\1}{\\mathbf{1} }\n",
    "\\newcommand{\\PP}{\\mathbb{P} }\n",
    "\\newcommand{\\Pof}[1]{\\mathbb{P}\\left[ #1 \\right]}\n",
    "%\\newcommand{\\Pr}{\\mathrm{Pr} }\n",
    "\\newcommand{\\QQ}{\\mathbb{Q} }\n",
    "\\newcommand{\\RR}{\\mathbb{R} }\n",
    "\\newcommand{\\DD}{\\mathbb{D} }\n",
    "\\newcommand{\\HH}{\\mathbb{H} }\n",
    "\\newcommand{\\spn}{\\mathrm{span} }\n",
    "\\newcommand{\\cov}{\\mathrm{cov} }\n",
    "\\newcommand{\\sgn}{\\mathrm{sgn} }\n",
    "\\newcommand{\\HS}{\\mathcal{L}_{\\mathrm{HS}} }\n",
    "%\\newcommand{\\HS}{\\mathrm{HS} }\n",
    "\\newcommand{\\trace}{\\mathrm{trace} }\n",
    "\\newcommand{\\LL}{\\mathcal{L} }\n",
    "%\\newcommand{\\LL}{\\mathrm{L} }\n",
    "\\newcommand{\\s}{\\mathcal{S} }\n",
    "\\newcommand{\\ee}{\\mathcal{E} }\n",
    "\\newcommand{\\ff}{\\mathcal{F} }\n",
    "\\newcommand{\\hh}{\\mathcal{H} }\n",
    "\\newcommand{\\bb}{\\mathcal{B} }\n",
    "\\newcommand{\\dd}{\\mathcal{D} }\n",
    "\\newcommand{\\g}{\\mathcal{G} }\n",
    "\\newcommand{\\p}{\\partial}\n",
    "\\newcommand{\\half}{\\frac{1}{2} }\n",
    "\\newcommand{\\T}{\\mathcal{T} }\n",
    "\\newcommand{\\bi}{\\begin{itemize}}\n",
    "\\newcommand{\\ei}{\\end{itemize}}\n",
    "\\newcommand{\\beq}{\\begin{equation}}\n",
    "\\newcommand{\\eeq}{\\end{equation}}\n",
    "\\newcommand{\\beas}{\\begin{eqnarray*}}\n",
    "\\newcommand{\\eeas}{\\end{eqnarray*}}\n",
    "\\newcommand{\\cO}{\\mathcal{O}}\n",
    "\\newcommand{\\cF}{\\mathcal{F}}\n",
    "\\newcommand{\\cL}{\\mathcal{L}}\n",
    "\\newcommand{\\BS}{\\text{BS}}\n",
    "$$"
   ]
  },
  {
   "cell_type": "markdown",
   "metadata": {},
   "source": [
    "<font color = \"red\">Homework is to be done by each student individually.  To receive full credit, you must email a completed copy of this Jupyter notebook to TAs 郭鵬 at [g.p@pku.edu.cn](mailto:g.p@pku.edu.cn) and 姜佳文 at [1164063524@qq.com](mailto:1164063524@qq.com) by the due date and time.  All codes must run correctly and solutions must be written up neatly in Markdown/LaTeX format. If you encounter problems with Jupyter notebook, please contact TA [郭鵬](mailto:g.p@pku.edu.cn)."
   ]
  },
  {
   "cell_type": "markdown",
   "metadata": {},
   "source": [
    "## Name: <font color=blue>彭扬慧</font>"
   ]
  },
  {
   "cell_type": "markdown",
   "metadata": {},
   "source": [
    "## Delta and delta-gamma hedging"
   ]
  },
  {
   "cell_type": "markdown",
   "metadata": {},
   "source": [
    "### 1. (25 points)\n",
    "\n",
    "A portfolio $\\Pi$ consists of \n",
    "- a long position in 200 shares of a nondividend paying stock with spot price $\\$50$,\n",
    "- a short position in 2000 calls struck at $\\$45$ and expiring in 2 months on the stock, assumed lognormally distributed with $40\\%$ volatility, \n",
    "- a short position in 1000 puts struck at $\\$55$ and expiring in 3 months on the same stock\n",
    "- $\\$20,000$ in money account with annual interest rate $5\\%$ continuously compounding.\n",
    "\n",
    "Answer the following questions.\n",
    "\n",
    "* (a) What is the value of the portfolio $\\Pi$?\n",
    "* (b) How do you adjust the holdings of stock shares and cash amounts in the portfolio $\\Pi$ in order to make it delta neutral without changing the postion in calls?\n",
    "* (c) How do you adjust the portfolio $\\Pi$ in order to make it delta-gamma neutral by adding position in calls struck at $\\$60$, expiring in 3 months? Position in calls cannot be altered.\n",
    "* (d) A month later the stock price goes down to $\\$48$. Determine the value of the delta-neuralized portfolio in (b). \n",
    "* (e) How do you rebalance the portfolio in (d) so it remains delta neutral?    \n",
    "\n",
    "\n",
    "You may consider using the code provided in the cell below for the calculation of deltas and gammas of call and put. "
   ]
  },
  {
   "cell_type": "code",
   "execution_count": 1,
   "metadata": {},
   "outputs": [],
   "source": [
    "# as always, import required modules and functions\n",
    "import numpy as np\n",
    "from numpy import sqrt, log, exp\n",
    "import matplotlib.pyplot as plt\n",
    "import scipy.stats as ss\n",
    "from scipy.stats import norm\n",
    "import seaborn as sns"
   ]
  },
  {
   "cell_type": "code",
   "execution_count": 2,
   "metadata": {},
   "outputs": [],
   "source": [
    "# Black-Scholes formulas\n",
    "# call\n",
    "def bs_call(s, K, sigma, t, r=0, d=0):\n",
    "    d1 = (log(s/K) + (r - d)*t)/(sigma*sqrt(t)) + sigma*sqrt(t)/2\n",
    "    d2 = d1 - sigma*sqrt(t)\n",
    "    \n",
    "    c = s*exp(-d*t)*norm.cdf(d1) - K*exp(-r*t)*norm.cdf(d2)\n",
    "    delta = exp(-d*t)*norm.cdf(d1)\n",
    "    gamma = norm.pdf(d1)/s/sigma/sqrt(t)\n",
    "    \n",
    "    return {'c': c, 'delta': delta, 'gamma': gamma}\n",
    "\n",
    "#put\n",
    "def bs_put(s, K, sigma, t, r=0, d=0):\n",
    "    d1 = (log(s/K) + (r - d)*t)/(sigma*sqrt(t)) + sigma*sqrt(t)/2\n",
    "    d2 = d1 - sigma*sqrt(t)\n",
    "    \n",
    "    p = K*exp(-r*t)*norm.cdf(-d2) - s*exp(-d*t)*norm.cdf(-d1)\n",
    "    delta = -exp(-d*t)*norm.cdf(-d1)\n",
    "    gamma = norm.pdf(d1)/s/sigma/sqrt(t)\n",
    "    \n",
    "    return {'p': p, 'delta': delta, 'gamma': gamma}"
   ]
  },
  {
   "cell_type": "code",
   "execution_count": 3,
   "metadata": {},
   "outputs": [],
   "source": [
    "# parameters\n",
    "s, K1, K2, r, sig, t1, t2 = 50, 45, 55, 0.05, 0.4, 2/12, 3/12\n",
    "\n",
    "# positions in underlying, call, put, cash\n",
    "x, y1, y2, z = 200, -2_000, -1_000, 20_000"
   ]
  },
  {
   "cell_type": "markdown",
   "metadata": {},
   "source": [
    "### <font color=blue> Solution 1. </font>"
   ]
  },
  {
   "cell_type": "code",
   "execution_count": 4,
   "metadata": {},
   "outputs": [
    {
     "name": "stdout",
     "output_type": "stream",
     "text": [
      "The value of the portfolio is : 10376.082376326991\n"
     ]
    }
   ],
   "source": [
    "#(a) Calculate the value of the portfolio\n",
    "call1 = bs_call(s, K1, sig, t1, r)\n",
    "put1 = bs_put(s, K2, sig, t2, r)\n",
    "\n",
    "port_value = x * s + y1 * call1['c'] + y2 * put1['p'] + z\n",
    "print(f\"The value of the portfolio is : {port_value}\")"
   ]
  },
  {
   "cell_type": "code",
   "execution_count": 5,
   "metadata": {},
   "outputs": [
    {
     "name": "stdout",
     "output_type": "stream",
     "text": [
      "Adjust the stock position by 740.10 shares.\n",
      "Adjust the cash amount by $-37005.06.\n"
     ]
    }
   ],
   "source": [
    "#(b)\n",
    "delta_x = -(x + y1 * call1['delta'] + y2 * put1['delta'])\n",
    "delta_z = (- delta_x) * s\n",
    "\n",
    "print(f\"Adjust the stock position by {delta_x:.2f} shares.\")\n",
    "print(f\"Adjust the cash amount by ${delta_z:.2f}.\")"
   ]
  },
  {
   "cell_type": "code",
   "execution_count": 6,
   "metadata": {},
   "outputs": [
    {
     "name": "stdout",
     "output_type": "stream",
     "text": [
      "Adjust the stock position by 110.46 shares.\n",
      "Adjust the cash amount by $20105.54.\n"
     ]
    }
   ],
   "source": [
    "#(c)\n",
    "K3 = 60\n",
    "t3 = 3/12\n",
    "# Recalculate call\n",
    "call2 = bs_call(s, K3, sig, t3, r)\n",
    "# Calculate Gamma、stock share、cash amount\n",
    "G = y1 * call1['gamma'] + y2 * put1['gamma']\n",
    "y3 = - G/call2['gamma']\n",
    "x1 = - (y1 * call1['delta'] + y2 * put1['delta'] + y3 * call2['delta'])\n",
    "z1 = x * s + z - x1 * s - y3 * call2['c']\n",
    "\n",
    "print(f\"Adjust the stock position by {x1:.2f} shares.\")\n",
    "print(f\"Adjust the cash amount by ${z1:.2f}.\")"
   ]
  },
  {
   "cell_type": "code",
   "execution_count": 7,
   "metadata": {},
   "outputs": [
    {
     "name": "stdout",
     "output_type": "stream",
     "text": [
      "The value of the new portfolio is : 11249.42565254341\n"
     ]
    }
   ],
   "source": [
    "#(d)\n",
    "s2 = 48\n",
    "t3 = t1 - 1/12\n",
    "t4 = t2 - 1/12\n",
    "\n",
    "z2 = (z - delta_z) * np.exp(r/12)\n",
    "call3 = bs_call(s2, K1, sig, t3, r)\n",
    "put2 = bs_put(s2, K2, sig, t4, r)\n",
    "port_value1 = (x1 - delta_x) * s2 + y1 * call3['c'] + y2 * put2['p'] + z2\n",
    "\n",
    "print(f\"The value of the new portfolio is : {port_value1}\")"
   ]
  },
  {
   "cell_type": "code",
   "execution_count": 8,
   "metadata": {},
   "outputs": [
    {
     "name": "stdout",
     "output_type": "stream",
     "text": [
      "Adjust the stock position by 727.74 shares.\n",
      "Adjust the cash amount by $-7911.11.\n"
     ]
    }
   ],
   "source": [
    "#(e)\n",
    "x2 = -(y1 * call3['delta'] + y2 * put2['delta'])\n",
    "z3 = (x1 - delta_x) * s2 + z2 - x2 * s2\n",
    "print(f\"Adjust the stock position by {x2:.2f} shares.\")\n",
    "print(f\"Adjust the cash amount by ${z3:.2f}.\")"
   ]
  },
  {
   "cell_type": "markdown",
   "metadata": {},
   "source": [
    "## The Bachelier model"
   ]
  },
  {
   "cell_type": "markdown",
   "metadata": {},
   "source": [
    "### 2. (10 points)\n",
    "\n",
    "Recall that the Bachelier model, assuming zero risk free and dividend rates, reads\n",
    "\n",
    "$$\n",
    "S_t = S_0 + \\sigma W_t\n",
    "$$\n",
    "\n",
    "where $W_t$ is a Brownian motion and $\\sigma$ is a constant. \n",
    "\n",
    "- (a) Show that a call option struck at $K$, expiring at $T$ has the price $c$ at time zero given by \n",
    "\n",
    "    \\begin{eqnarray*}\n",
    "    c(K, T) &=& \\Eof{(S_T - K)^+}\\\\\n",
    "    &=& \\frac{\\sigma\\sqrt T}{\\sqrt{2\\pi}} \\, e^{-\\frac{(S_0 - K)^2}{2\\sigma^2 T}} + (S_0 - K) \\, N\\left(\\frac{S_0 - K}{\\sigma\\sqrt T}\\right).\n",
    "    \\end{eqnarray*}\n",
    "\n",
    "- (b) Verify the Dupire's formula, in this case \n",
    "\n",
    "    $$\n",
    "    \\frac{\\sigma^2}{K^2} = \\frac{c_T}{\\frac12 K^2 c_{KK}}\n",
    "    $$\n",
    "\n",
    "    using the call price function $c$ obtained in (a). Note that subindices refer to corresponding partial derivatives. "
   ]
  },
  {
   "cell_type": "markdown",
   "metadata": {},
   "source": [
    "### <font color=blue> Solution 2. </font>"
   ]
  },
  {
   "cell_type": "markdown",
   "metadata": {},
   "source": [
    "(a)\n",
    "  \n",
    "  $E(S_T - K) = \\int _0^\\infty \\frac{x}{\\sqrt{2\\pi} \\sigma \\sqrt T} \n",
    "  e^ {-\\frac{(x + K - S_0)^2}{2\\sigma^2 T}} dx$\n",
    "  \n",
    "  $= \\frac{1}{\\sqrt{2\\pi}} \\int_{\\frac{K - S_0}{\\sigma \\sqrt T}}^\\infty\n",
    "  (u + \\frac{S_0 - K}{\\sigma \\sqrt T})e^{-u^2}  d(\\sigma \\sqrt Tu)$\n",
    "\n",
    "  $= \\frac{\\sigma \\sqrt T}{\\sqrt{2\\pi}} \\int_{\\frac{K - S_0}{\\sigma \\sqrt T}}^\\infty\n",
    "  ue^{-u^2}du + \\frac{S_0 - K}{\\sqrt{2\\pi}} \\int_{-\\infty}^\\frac{S_0 - K}{\\sigma \\sqrt T} e^{\\frac{-u^2}{2}}du$\n",
    "\n",
    "  $= \\frac{\\sigma \\sqrt T}{\\sqrt{2\\pi}} e^{-\\frac{u^2}{2}}|_{\\frac{K - S_0}{\\sigma \\sqrt T}}^\\infty + (S_0 - K) \\int_{-\\infty}^\\frac{S_0 - K}{\\sigma \\sqrt T} \\frac{1}{\\sqrt{2\\pi}}e^{-\\frac{u^2}{2}}du$\n",
    "\n",
    "  $= \\frac{\\sigma\\sqrt T}{\\sqrt{2\\pi}} \\, e^{-\\frac{(S_0 - K)^2}{2\\sigma^2 T}} + (S_0 - K) \\, \\Phi(\\frac{S_0 - K}{\\sigma\\sqrt T})$\n"
   ]
  },
  {
   "cell_type": "markdown",
   "metadata": {},
   "source": [
    "(b)  \n",
    "$ c_T = \\frac{\\sigma}{2\\sqrt{2\\pi T}} e^{-\\frac{(S_0-K)^2}{2\\sigma^2T}} $  \n",
    "\n",
    "$ c_{K} = -N(\\frac{S_0 - K}{\\sigma\\sqrt T})$   \n",
    "\n",
    "$ c_{KK} = \\frac{1}{\\sqrt{2\\pi T}\\sigma} e^{-\\frac{(S_0-K)^2}{2\\sigma^2T}} $  \n",
    "\n",
    "so $\n",
    "    \\frac{\\sigma^2}{K^2} = \\frac{c_T}{\\frac12 K^2 c_{KK}}\n",
    "    $"
   ]
  },
  {
   "cell_type": "code",
   "execution_count": null,
   "metadata": {},
   "outputs": [],
   "source": []
  }
 ],
 "metadata": {
  "celltoolbar": "Slideshow",
  "kernelspec": {
   "display_name": "Python 3 (ipykernel)",
   "language": "python",
   "name": "python3"
  },
  "language_info": {
   "codemirror_mode": {
    "name": "ipython",
    "version": 3
   },
   "file_extension": ".py",
   "mimetype": "text/x-python",
   "name": "python",
   "nbconvert_exporter": "python",
   "pygments_lexer": "ipython3",
   "version": "3.9.13"
  },
  "toc": {
   "base_numbering": 1,
   "nav_menu": {},
   "number_sections": false,
   "sideBar": true,
   "skip_h1_title": false,
   "title_cell": "Table of Contents",
   "title_sidebar": "Contents",
   "toc_cell": false,
   "toc_position": {},
   "toc_section_display": true,
   "toc_window_display": false
  },
  "varInspector": {
   "cols": {
    "lenName": 16,
    "lenType": 16,
    "lenVar": 40
   },
   "kernels_config": {
    "python": {
     "delete_cmd_postfix": "",
     "delete_cmd_prefix": "del ",
     "library": "var_list.py",
     "varRefreshCmd": "print(var_dic_list())"
    },
    "r": {
     "delete_cmd_postfix": ") ",
     "delete_cmd_prefix": "rm(",
     "library": "var_list.r",
     "varRefreshCmd": "cat(var_dic_list()) "
    }
   },
   "types_to_exclude": [
    "module",
    "function",
    "builtin_function_or_method",
    "instance",
    "_Feature"
   ],
   "window_display": false
  }
 },
 "nbformat": 4,
 "nbformat_minor": 1
}
