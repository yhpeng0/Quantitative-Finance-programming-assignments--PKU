{
 "cells": [
  {
   "cell_type": "markdown",
   "metadata": {},
   "source": [
    "# Topics in Quantitative Finance - Homework 2\n",
    "\n",
    "Assigned: July 26, 2023.\n",
    "Due: **Friday, July 28, 2023** by 1PM. \n",
    "\n",
    "Late homework **will not be accepted**.\n",
    "\n",
    "$$\n",
    "\\newcommand{\\supp}{\\mathrm{supp}}\n",
    "\\newcommand{\\E}{\\mathbb{E} }\n",
    "\\newcommand{\\Eof}[1]{\\mathbb{E}\\left[ #1 \\right]}\n",
    "\\def\\Cov{{ \\mbox{Cov} }}\n",
    "\\def\\Var{{ \\mbox{Var} }}\n",
    "\\newcommand{\\1}{\\mathbf{1} }\n",
    "\\newcommand{\\PP}{\\mathbb{P} }\n",
    "\\newcommand{\\Pof}[1]{\\mathbb{P}\\left[ #1 \\right]}\n",
    "%\\newcommand{\\Pr}{\\mathrm{Pr} }\n",
    "\\newcommand{\\QQ}{\\mathbb{Q} }\n",
    "\\newcommand{\\RR}{\\mathbb{R} }\n",
    "\\newcommand{\\DD}{\\mathbb{D} }\n",
    "\\newcommand{\\HH}{\\mathbb{H} }\n",
    "\\newcommand{\\spn}{\\mathrm{span} }\n",
    "\\newcommand{\\cov}{\\mathrm{cov} }\n",
    "\\newcommand{\\sgn}{\\mathrm{sgn} }\n",
    "\\newcommand{\\HS}{\\mathcal{L}_{\\mathrm{HS}} }\n",
    "%\\newcommand{\\HS}{\\mathrm{HS} }\n",
    "\\newcommand{\\trace}{\\mathrm{trace} }\n",
    "\\newcommand{\\LL}{\\mathcal{L} }\n",
    "%\\newcommand{\\LL}{\\mathrm{L} }\n",
    "\\newcommand{\\s}{\\mathcal{S} }\n",
    "\\newcommand{\\ee}{\\mathcal{E} }\n",
    "\\newcommand{\\ff}{\\mathcal{F} }\n",
    "\\newcommand{\\hh}{\\mathcal{H} }\n",
    "\\newcommand{\\bb}{\\mathcal{B} }\n",
    "\\newcommand{\\dd}{\\mathcal{D} }\n",
    "\\newcommand{\\g}{\\mathcal{G} }\n",
    "\\newcommand{\\p}{\\partial}\n",
    "\\newcommand{\\half}{\\frac{1}{2} }\n",
    "\\newcommand{\\T}{\\mathcal{T} }\n",
    "\\newcommand{\\bi}{\\begin{itemize}}\n",
    "\\newcommand{\\ei}{\\end{itemize}}\n",
    "\\newcommand{\\beq}{\\begin{equation}}\n",
    "\\newcommand{\\eeq}{\\end{equation}}\n",
    "\\newcommand{\\beas}{\\begin{eqnarray*}}\n",
    "\\newcommand{\\eeas}{\\end{eqnarray*}}\n",
    "\\newcommand{\\cO}{\\mathcal{O}}\n",
    "\\newcommand{\\cF}{\\mathcal{F}}\n",
    "\\newcommand{\\cL}{\\mathcal{L}}\n",
    "\\newcommand{\\BS}{\\text{BS}}\n",
    "\\newcommand{\\dint}{\\displaystyle\\int}\n",
    "$$"
   ]
  },
  {
   "cell_type": "markdown",
   "metadata": {},
   "source": [
    "<font color = \"red\">Homework is to be done by each student individually.  To receive full credit, you must email a completed copy of this Jupyter notebook to TAs 郭鵬 at [g.p@pku.edu.cn](mailto:g.p@pku.edu.cn) and 姜佳文 at [1164063524@qq.com](mailto:1164063524@qq.com) by the due date and time.  All codes must run correctly and solutions must be written up neatly in Markdown/LaTeX format. If you encounter problems with Jupyter notebook, please contact TA [郭鵬](mailto:g.p@pku.edu.cn)."
   ]
  },
  {
   "cell_type": "markdown",
   "metadata": {},
   "source": [
    "## Name: <font color=blue>彭扬慧</font>"
   ]
  },
  {
   "cell_type": "markdown",
   "metadata": {},
   "source": [
    "In the following, $B_t$ denotes a standard Brownian motion. "
   ]
  },
  {
   "cell_type": "markdown",
   "metadata": {},
   "source": [
    "## Ito isometry"
   ]
  },
  {
   "cell_type": "markdown",
   "metadata": {},
   "source": [
    "### 1. (20pts)\n",
    "Find the variance of the following random variables by applying the Ito isometry \n",
    "\n",
    "$$\n",
    "\\Eof{\\left(\\int_a^b \\varphi_s dB_s\\right)^2} = \\int_a^b \\Eof{\\varphi_s^2}ds\n",
    "$$\n",
    "\n",
    "- (a) $X = \\dint_0^t B_s^2 dB_s$. In this case, $\\varphi_s = B_s^2$.\n",
    "- (b) $X = \\int_a^b \\sqrt t B_t dB_t$. In this case, $\\varphi_t = \\sqrt t B_t$."
   ]
  },
  {
   "cell_type": "markdown",
   "metadata": {},
   "source": [
    "### <font color=blue> Solution 1. </font>\n",
    "According Ito isometry   \n",
    "(a)\n",
    "so $\\int_0^t \\Eof{(B_s^2)^2 }ds = \\int_0^t \\Eof{B_s^4} ds= \\int_0^t 3s^2ds$ = $t^3$\n",
    "  \n",
    "  (b)$\\dint_a^b E(tB_{t} ^2) dt = \\dint_a^b t^2dt = (1/3)*(b^3-a^3)$\n",
    "  "
   ]
  },
  {
   "cell_type": "markdown",
   "metadata": {},
   "source": [
    "## Apply Ito's formula to evaluate stochastic integral"
   ]
  },
  {
   "cell_type": "markdown",
   "metadata": {},
   "source": [
    "### 2. (20pts)\n",
    "Apply Ito's formula to evaluate the following stochastic integrals.\n",
    "\n",
    "- (a) $\\dint_0^t B_s e^{B_s} dB_s$ \n",
    "- (b) $\\dint_0^t \\frac 1{1 + B_s^2} dB_s$ "
   ]
  },
  {
   "cell_type": "markdown",
   "metadata": {},
   "source": [
    "### <font color=blue> Solution 2. </font>\n",
    "According$$\n",
    "\\int_a^b f(B_t) dB_t = F(B_t)|_{t=a}^b - \\frac12 \\int_a^b f'(B_t) dt,\n",
    "$$,we can get\n",
    "- (a) \n",
    "$\\dint_0^t B_s e^{B_s} dB_s = (B_t -1)e^{B_t} - (B_0-1)e^{B_0} - \\frac{1}{2}\\dint_0^t e^{B_s}({B_s}+1)ds = (B_t -1)e^{B_t} + 1 - \\frac{1}{2}\\dint_0^t e^{B_s}({B_s}+1)ds$\n",
    "- (b)\n",
    " $\\dint_0^t \\frac 1{1 + B_s^2} dB_s = arctanB_t - arctanB_0 -\\frac{1}{2} \\dint_0^t \\frac{2B_s}{(1+B_s^2)^2}ds = arctanB_t -\\frac{1}{2} \\dint_0^t \\frac{B_s}{(1+B_s^2)^2}ds$ "
   ]
  },
  {
   "cell_type": "markdown",
   "metadata": {},
   "source": [
    "## Apply Ito's formula to solve SDE"
   ]
  },
  {
   "cell_type": "markdown",
   "metadata": {},
   "source": [
    "### 3. (10pts)\n",
    "\n",
    "Let $X_t$ satisfy the SDE for Ornstein-Uhlenbeck process\n",
    "\n",
    "$$\n",
    "dX_t = \\lambda(m - X_t) dt + \\sigma dB_t, \\quad X_0 = x > 0,\n",
    "$$\n",
    "\n",
    "where $\\lambda > 0$, $m$ and $\\sigma$ are constants. \n",
    "\n",
    "Apply Ito's formula to $e^{\\lambda t}X_t$ and show that the solution is given by\n",
    "\n",
    "$$\n",
    "X_t = e^{-\\lambda t} x + \\left(1 - e^{-\\lambda t} \\right) m + \\sigma \\int_0^t e^{-\\lambda(t - s)} dW_s.\n",
    "$$\n"
   ]
  },
  {
   "cell_type": "markdown",
   "metadata": {},
   "source": [
    "### <font color=blue> Solution 3. </font>\n",
    "Let $f(t,X_t) = e^{\\lambda t}X_t$,\n",
    "so  &$f_t = \\lambda e^{\\lambda t}X_t$, $f_x = e^{\\lambda t}$, $f_{xx}= 0$$.\n",
    "   \n",
    "  $$df(t,X_t) = (\\lambda e^{\\lambda t}X_t) dt + (e^{\\lambda t}) dX_t$$\n",
    "    \n",
    "   using the given SDE for $X_t$ to express $dX_t$:\n",
    "\n",
    "$$dX_t = \\lambda(m - X_t) dt + \\sigma dB_t$$\n",
    "\n",
    "$$df(t,X_t) = \\lambda e^{\\lambda t}X_t dt + e^{\\lambda t} (\\lambda(m - X_t) dt + \\sigma dB_t) = \\left(\\lambda me^{\\lambda t} + \\lambda e^{\\lambda t}X_t - \\lambda e^{\\lambda t}X_t \\right) dt + \\sigma e^{\\lambda t}dB_t = \\lambda me^{\\lambda t}dt + \\sigma e^{\\lambda t}dB_t$$ \n",
    "\n",
    "So $$\\begin{aligned}  f\\left(t, X_t\\right)-f(0, x) & =\\int_0^t \\lambda e^{\\lambda s} m d s+\\int_0^t \\sigma e^{\\lambda s} d B_s\\\\\n",
    "e^{\\lambda t} X_t-x & =m\\left[e^{\\lambda s}\\right]_0^t+\\sigma \\int_0^t e^{\\lambda s} d B_s \\\\ \n",
    "e^{\\lambda t} X_t & =x+m\\left(e^{\\lambda t}-1\\right)+\\sigma \\int_0^t e^{\\lambda s} d B_s \\\\   \n",
    "X_t & =e^{-\\lambda t} x+\\left(1-e^{-\\lambda t}\\right) m+\\sigma \\int_0^t e^{-\\lambda(t-s)} d B_s\\end{aligned}$$"
   ]
  },
  {
   "cell_type": "markdown",
   "metadata": {},
   "source": [
    "## Simulating the Black-Scholes model"
   ]
  },
  {
   "cell_type": "markdown",
   "metadata": {},
   "source": [
    "### 4. (20pts)\n",
    "\n",
    "With 100 steps within the time interval $[0,1]$, simulate 10,000 sample paths for the Black-Scholes model \n",
    "\n",
    "$$\n",
    "dX_t = r X_t dt + \\sigma X_t dB_t\n",
    "$$\n",
    "\n",
    "by the Euler-Maruyama scheme with $X_0 = 10$. The parameters are given by $r = 3\\%$ and $\\sigma = 30\\%$.\n",
    "\n",
    "- (a) Plot the histograms of $X_t$ for $t = 0.4, 1$.\n",
    "- (b) Evaluate the expectation $e^{-rT}\\Eof{|X_T - K|}$ by taking sample mean from using the simulated samples in (a), where $K = 10$ and $T = 1$. Note: Use `numpy.abs` for the absolute value.\n",
    "\n"
   ]
  },
  {
   "cell_type": "code",
   "execution_count": 1,
   "metadata": {},
   "outputs": [],
   "source": [
    "# as always, import required modules and functions\n",
    "import numpy as np\n",
    "from numpy import sqrt, log, exp\n",
    "import matplotlib.pyplot as plt\n",
    "import scipy.stats as ss\n",
    "from scipy.stats import norm\n",
    "import seaborn as sns"
   ]
  },
  {
   "cell_type": "code",
   "execution_count": 2,
   "metadata": {},
   "outputs": [
    {
     "data": {
      "text/plain": [
       "<matplotlib.legend.Legend at 0x20e31fa9d00>"
      ]
     },
     "execution_count": 2,
     "metadata": {},
     "output_type": "execute_result"
    },
    {
     "data": {
      "image/png": "[encoded data removed]",
      "text/plain": [
       "<Figure size 1200x800 with 1 Axes>"
      ]
     },
     "metadata": {},
     "output_type": "display_data"
    }
   ],
   "source": [
    "#(4a)\n",
    "# set random seed\n",
    "np.random.seed(1609)\n",
    "\n",
    "# parameters\n",
    "x0, sigma, r, T = 10, 0.3, 0.03, 1 \n",
    "n_sim, n_steps = 10_000, 100\n",
    "dt = T/n_steps\n",
    "\n",
    "# initialize X\n",
    "X = np.ones([n_sim, n_steps+1])*x0\n",
    "\n",
    "for i in range(n_steps):\n",
    "    db = norm.rvs(size=n_sim)\n",
    "    db = db - db.mean()\n",
    "    db = db/db.std()\n",
    "    db = db*np.sqrt(dt)\n",
    "    X[:,i+1] = X[:,i] + r*X[:,i]*dt + sigma*X[:,i]*db\n",
    "\n",
    "# plot\n",
    "plt.figure(figsize=(12, 8))\n",
    "t = np.arange(0, T+dt, dt)\n",
    "\n",
    "# histograms at different times\n",
    "plt.subplot(2, 2, 1)\n",
    "time = 0.4 # 0.5, 0.8\n",
    "sns.histplot(X[:,t==time], bins=30, stat='density', label=f'$t={time}$', element='step')\n",
    "sns.histplot(X[:,-1], bins=30, stat='density', label=f'$t={T}$', color='lightgreen', element='step')\n",
    "plt.legend()\n"
   ]
  },
  {
   "cell_type": "code",
   "execution_count": 3,
   "metadata": {},
   "outputs": [],
   "source": [
    "#(4b)"
   ]
  },
  {
   "cell_type": "code",
   "execution_count": 4,
   "metadata": {},
   "outputs": [
    {
     "name": "stdout",
     "output_type": "stream",
     "text": [
      "2.3447085707720254\n"
     ]
    }
   ],
   "source": [
    "expec = np.exp(-r) * np.mean(np.abs(X[:,-1] - 10))\n",
    "print(expec)"
   ]
  },
  {
   "cell_type": "code",
   "execution_count": null,
   "metadata": {},
   "outputs": [],
   "source": []
  }
 ],
 "metadata": {
  "celltoolbar": "Slideshow",
  "kernelspec": {
   "display_name": "Python 3 (ipykernel)",
   "language": "python",
   "name": "python3"
  },
  "language_info": {
   "codemirror_mode": {
    "name": "ipython",
    "version": 3
   },
   "file_extension": ".py",
   "mimetype": "text/x-python",
   "name": "python",
   "nbconvert_exporter": "python",
   "pygments_lexer": "ipython3",
   "version": "3.9.13"
  },
  "toc": {
   "base_numbering": 1,
   "nav_menu": {},
   "number_sections": false,
   "sideBar": true,
   "skip_h1_title": false,
   "title_cell": "Table of Contents",
   "title_sidebar": "Contents",
   "toc_cell": false,
   "toc_position": {},
   "toc_section_display": true,
   "toc_window_display": false
  },
  "varInspector": {
   "cols": {
    "lenName": 16,
    "lenType": 16,
    "lenVar": 40
   },
   "kernels_config": {
    "python": {
     "delete_cmd_postfix": "",
     "delete_cmd_prefix": "del ",
     "library": "var_list.py",
     "varRefreshCmd": "print(var_dic_list())"
    },
    "r": {
     "delete_cmd_postfix": ") ",
     "delete_cmd_prefix": "rm(",
     "library": "var_list.r",
     "varRefreshCmd": "cat(var_dic_list()) "
    }
   },
   "types_to_exclude": [
    "module",
    "function",
    "builtin_function_or_method",
    "instance",
    "_Feature"
   ],
   "window_display": false
  }
 },
 "nbformat": 4,
 "nbformat_minor": 1
}
